{
 "cells": [
  {
   "cell_type": "code",
   "execution_count": 1,
   "id": "21648ec2",
   "metadata": {},
   "outputs": [
    {
     "name": "stdout",
     "output_type": "stream",
     "text": [
      "           x          y unique_squirrel_id hectare shift      date  \\\n",
      "0 -73.956134  40.794082     37F-PM-1014-03     37F    PM  10142018   \n",
      "1 -73.968857  40.783783     21B-AM-1019-04     21B    AM  10192018   \n",
      "2 -73.974281  40.775534     11B-PM-1014-08     11B    PM  10142018   \n",
      "3 -73.959641  40.790313     32E-PM-1017-14     32E    PM  10172018   \n",
      "4 -73.970268  40.776213     13E-AM-1017-05     13E    AM  10172018   \n",
      "\n",
      "   hectare_squirrel_number    age primary_fur_color highlight_fur_color  ...  \\\n",
      "0                        3    NaN               NaN                 NaN  ...   \n",
      "1                        4    NaN               NaN                 NaN  ...   \n",
      "2                        8    NaN              Gray                 NaN  ...   \n",
      "3                       14  Adult              Gray                 NaN  ...   \n",
      "4                        5  Adult              Gray            Cinnamon  ...   \n",
      "\n",
      "    kuks  quaas  moans tail_flags tail_twitches  approaches  indifferent  \\\n",
      "0  False  False  False      False         False       False        False   \n",
      "1  False  False  False      False         False       False        False   \n",
      "2  False  False  False      False         False       False        False   \n",
      "3  False  False  False      False         False       False        False   \n",
      "4  False  False  False      False         False       False        False   \n",
      "\n",
      "   runs_from  other_interactions                             geocoded_column  \n",
      "0      False                 NaN  POINT (-73.9561344937861 40.7940823884086)  \n",
      "1      False                 NaN  POINT (-73.9688574691102 40.7837825208444)  \n",
      "2      False                 NaN  POINT (-73.97428114848522 40.775533619083)  \n",
      "3       True                 NaN  POINT (-73.9596413903948 40.7903128889029)  \n",
      "4      False                 NaN  POINT (-73.9702676472613 40.7762126854894)  \n",
      "\n",
      "[5 rows x 31 columns]\n"
     ]
    }
   ],
   "source": [
    "import pandas as pd\n",
    "\n",
    "# URL to the CSV file\n",
    "url = 'https://data.cityofnewyork.us/resource/vfnx-vebw.csv'\n",
    "\n",
    "# Download the data and load it into a DataFrame\n",
    "squirrel_data = pd.read_csv(url)\n",
    "\n",
    "# Display the first few rows of the DataFrame\n",
    "print(squirrel_data.head())"
   ]
  }
 ],
 "metadata": {
  "kernelspec": {
   "display_name": "Python 3 (ipykernel)",
   "language": "python",
   "name": "python3"
  },
  "language_info": {
   "codemirror_mode": {
    "name": "ipython",
    "version": 3
   },
   "file_extension": ".py",
   "mimetype": "text/x-python",
   "name": "python",
   "nbconvert_exporter": "python",
   "pygments_lexer": "ipython3",
   "version": "3.11.6"
  }
 },
 "nbformat": 4,
 "nbformat_minor": 5
}
